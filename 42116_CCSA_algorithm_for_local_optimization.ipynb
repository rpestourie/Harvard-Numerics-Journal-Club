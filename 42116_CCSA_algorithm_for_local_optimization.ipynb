{
 "cells": [
  {
   "cell_type": "markdown",
   "metadata": {},
   "source": [
    "# LD_CCSAQ algorithm:\n",
    "- Convex subproblem at each iteration of the inner loop\n",
    "- Each subproblem is the combination of linear Taylor expansion of the objective and constraint function (separable functions)\n",
    "- The quadratic part is a quadratic penalty term that ensures that the next step in the outer loop is conservative.\n",
    "- Each steps of the outer loop requires the evaluation of the functions + gradient\n",
    "- Inside the inner loop just need the functions evaluations."
   ]
  },
  {
   "cell_type": "code",
   "execution_count": 1,
   "metadata": {
    "collapsed": false
   },
   "outputs": [
    {
     "name": "stdout",
     "output_type": "stream",
     "text": [
      "f_1([1.234,5.678])=2.382855429941145\n",
      "f_2([0.9710289795117957,5.4768731703791955])=2.340272029140885\n",
      "f_3([0.8694775756072178,5.277298044043508])=2.297237045679768\n",
      "f_4([0.7876540847066766,4.277298044043508])=2.0681629636088905\n",
      "f_5([0.7284112027079249,3.0772980440435083])=1.7542229174319632\n",
      "f_6([0.7269979172024564,3.0772980440435083])=1.7542229174319632\n",
      "f_7([0.6131801133176963,1.6372980440435083])=1.279569476051812\n",
      "f_8([0.608109251634216,1.6372980440435083])=1.279569476051812\n",
      "f_9([0.5934863218552073,1.6372980440435083])=1.279569476051812\n",
      "f_10([0.5884060343887269,1.6372980440435083])=1.279569476051812\n",
      "f_11([0.40896850238057525,0.16229380405800797])=0.40285705164240077\n",
      "f_12([0.3870088158974541,0.18540814499939517])=0.4305904608783097\n",
      "f_13([0.35958624504984993,0.24536531419947716])=0.4953436324406292\n",
      "f_14([0.3434232328439481,0.27535608494126573])=0.5247438279210779\n",
      "f_15([0.33346936910355085,0.29458604746579753])=0.5427578165865486\n",
      "f_16([0.3270125193071079,0.30732704024387325])=0.5543708508244939\n",
      "f_17([0.3333920734822763,0.2961366464421735])=0.5441843864373302\n",
      "f_18([0.3333811698566579,0.29615725714970725])=0.5442033233541552\n",
      "f_19([0.3333218379992738,0.29629542295742706])=0.5443302517382504\n",
      "f_20([0.33332808735169306,0.29631100394655285])=0.5443445636235865\n",
      "f_21([0.3333333406529831,0.29629630086070197])=0.5443310581444917\n",
      "f_22([0.3333333356552887,0.29629629276263886])=0.5443310507059457\n",
      "got 0.5443310507059457 at [0.3333333356552887,0.29629629276263886] after 22 iterations (returned XTOL_REACHED)\n"
     ]
    }
   ],
   "source": [
    "#example from https://github.com/JuliaOpt/NLopt.jl\n",
    "\n",
    "using NLopt\n",
    "\n",
    "count = 0 # keep track of # function evaluations\n",
    "\n",
    "function myfunc(x::Vector, grad::Vector)\n",
    "    if length(grad) > 0\n",
    "        grad[1] = 0\n",
    "        grad[2] = 0.5/sqrt(x[2])\n",
    "    end\n",
    "\n",
    "    global count\n",
    "    count::Int += 1\n",
    "    \n",
    "    f = sqrt(x[2])\n",
    "    println(\"f_$count($x)=$f\")\n",
    "\n",
    "    f\n",
    "end\n",
    "\n",
    "function myconstraint(x::Vector, grad::Vector, a, b)\n",
    "    if length(grad) > 0\n",
    "        grad[1] = 3a * (a*x[1] + b)^2\n",
    "        grad[2] = -1\n",
    "    end\n",
    "    (a*x[1] + b)^3 - x[2]\n",
    "end\n",
    "\n",
    "opt = Opt(:LD_CCSAQ, 2)\n",
    "lower_bounds!(opt, [-Inf, 0.])\n",
    "xtol_rel!(opt,1e-4)\n",
    "\n",
    "min_objective!(opt, myfunc)\n",
    "inequality_constraint!(opt, (x,g) -> myconstraint(x,g,2,0), 1e-8)\n",
    "inequality_constraint!(opt, (x,g) -> myconstraint(x,g,-1,1), 1e-8)\n",
    "\n",
    "(minf,minx,ret) = optimize(opt, [1.234, 5.678])\n",
    "println(\"got $minf at $minx after $count iterations (returned $ret)\")"
   ]
  },
  {
   "cell_type": "markdown",
   "metadata": {},
   "source": [
    "# Discussion\n",
    "We see that the 19th evaluation of the function is actually lower than the final value. This must have happened in an inner loop where the local optimum of the convex problem did not satisfy the conservative property, so it had to increase the penalty term at the function approximation level."
   ]
  }
 ],
 "metadata": {
  "kernelspec": {
   "display_name": "Julia 0.4.5",
   "language": "julia",
   "name": "julia-0.4"
  },
  "language_info": {
   "file_extension": ".jl",
   "mimetype": "application/julia",
   "name": "julia",
   "version": "0.4.5"
  }
 },
 "nbformat": 4,
 "nbformat_minor": 0
}
